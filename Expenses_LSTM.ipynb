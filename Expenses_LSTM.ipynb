{
 "cells": [
  {
   "cell_type": "code",
   "execution_count": 1,
   "metadata": {},
   "outputs": [
    {
     "name": "stdout",
     "output_type": "stream",
     "text": [
      "Requirement already satisfied: numpy in /Users/mabbas/tf3/lib/python3.6/site-packages\n",
      "Requirement already satisfied: pandas in /Users/mabbas/tf3/lib/python3.6/site-packages\n",
      "Requirement already satisfied: pytz>=2011k in /Users/mabbas/tf3/lib/python3.6/site-packages (from pandas)\n",
      "Requirement already satisfied: python-dateutil>=2 in /Users/mabbas/tf3/lib/python3.6/site-packages (from pandas)\n",
      "Requirement already satisfied: numpy>=1.9.0 in /Users/mabbas/tf3/lib/python3.6/site-packages (from pandas)\n",
      "Requirement already satisfied: six>=1.5 in /Users/mabbas/tf3/lib/python3.6/site-packages (from python-dateutil>=2->pandas)\n",
      "Requirement already satisfied: keras in /Users/mabbas/tf3/lib/python3.6/site-packages\n",
      "Requirement already satisfied: scipy>=0.14 in /Users/mabbas/tf3/lib/python3.6/site-packages (from keras)\n",
      "Requirement already satisfied: numpy>=1.9.1 in /Users/mabbas/tf3/lib/python3.6/site-packages (from keras)\n",
      "Requirement already satisfied: six>=1.9.0 in /Users/mabbas/tf3/lib/python3.6/site-packages (from keras)\n",
      "Requirement already satisfied: pyyaml in /Users/mabbas/tf3/lib/python3.6/site-packages (from keras)\n",
      "Requirement already satisfied: graphviz in /Users/mabbas/tf3/lib/python3.6/site-packages\n",
      "Requirement already satisfied: pydot in /Users/mabbas/tf3/lib/python3.6/site-packages\n",
      "Requirement already satisfied: pyparsing>=2.1.4 in /Users/mabbas/tf3/lib/python3.6/site-packages (from pydot)\n"
     ]
    }
   ],
   "source": [
    "!pip install numpy\n",
    "!pip install pandas\n",
    "!pip install keras\n",
    "!pip install graphviz\n",
    "!pip install pydot"
   ]
  },
  {
   "cell_type": "code",
   "execution_count": 2,
   "metadata": {},
   "outputs": [
    {
     "name": "stderr",
     "output_type": "stream",
     "text": [
      "/Users/mabbas/tf3/lib/python3.6/site-packages/h5py/__init__.py:34: FutureWarning: Conversion of the second argument of issubdtype from `float` to `np.floating` is deprecated. In future, it will be treated as `np.float64 == np.dtype(float).type`.\n",
      "  from ._conv import register_converters as _register_converters\n",
      "Using TensorFlow backend.\n"
     ]
    }
   ],
   "source": [
    "from IPython.display import SVG\n",
    "from keras.utils.vis_utils import model_to_dot\n",
    "import matplotlib.pyplot as plt\n",
    "%matplotlib inline  \n",
    "import app_utils as u\n",
    "from imp import reload\n",
    "reload(u);"
   ]
  },
  {
   "cell_type": "code",
   "execution_count": 3,
   "metadata": {},
   "outputs": [],
   "source": [
    "df_train,df_val,categories = u.read_data()"
   ]
  },
  {
   "cell_type": "code",
   "execution_count": 4,
   "metadata": {},
   "outputs": [],
   "source": [
    "#Prepare the data for the model\n",
    "tk_word_index,x_train,y_train,x_val,y_val = u.prepare_data(df_train,df_val,categories)"
   ]
  },
  {
   "cell_type": "code",
   "execution_count": 5,
   "metadata": {},
   "outputs": [],
   "source": [
    "#Load Glove 50-d embeddings\n",
    "embeddings,word_index = u.load_embeddings()"
   ]
  },
  {
   "cell_type": "code",
   "execution_count": 6,
   "metadata": {},
   "outputs": [
    {
     "name": "stdout",
     "output_type": "stream",
     "text": [
      "_________________________________________________________________\n",
      "Layer (type)                 Output Shape              Param #   \n",
      "=================================================================\n",
      "embedding_1 (Embedding)      (None, 10, 50)            1600      \n",
      "_________________________________________________________________\n",
      "lstm_1 (LSTM)                (None, 32)                10624     \n",
      "_________________________________________________________________\n",
      "dense_1 (Dense)              (None, 32)                1056      \n",
      "_________________________________________________________________\n",
      "dense_2 (Dense)              (None, 5)                 165       \n",
      "=================================================================\n",
      "Total params: 13,445\n",
      "Trainable params: 11,845\n",
      "Non-trainable params: 1,600\n",
      "_________________________________________________________________\n"
     ]
    }
   ],
   "source": [
    "# Get the embedding matrix for the model, build model, display model summary\n",
    "embedding_matrix = u.get_embedding_matrix_for_model(tk_word_index,embeddings,word_index)\n",
    "model = u.build_model(embedding_matrix,categories)\n",
    "model.summary()"
   ]
  },
  {
   "cell_type": "code",
   "execution_count": 7,
   "metadata": {},
   "outputs": [
    {
     "data": {
      "image/svg+xml": [
       "<svg height=\"337pt\" viewBox=\"0.00 0.00 205.57 337.00\" width=\"206pt\" xmlns=\"http://www.w3.org/2000/svg\" xmlns:xlink=\"http://www.w3.org/1999/xlink\">\n",
       "<g class=\"graph\" id=\"graph0\" transform=\"scale(1 1) rotate(0) translate(4 333)\">\n",
       "<title>G</title>\n",
       "<polygon fill=\"white\" points=\"-4,4 -4,-333 201.569,-333 201.569,4 -4,4\" stroke=\"none\"/>\n",
       "<!-- 4708562144 -->\n",
       "<g class=\"node\" id=\"node1\"><title>4708562144</title>\n",
       "<polygon fill=\"none\" points=\"0,-292.5 0,-328.5 197.569,-328.5 197.569,-292.5 0,-292.5\" stroke=\"black\"/>\n",
       "<text font-family=\"Times,serif\" font-size=\"14.00\" text-anchor=\"middle\" x=\"98.7847\" y=\"-306.3\">embedding_1_input: InputLayer</text>\n",
       "</g>\n",
       "<!-- 4946940088 -->\n",
       "<g class=\"node\" id=\"node2\"><title>4946940088</title>\n",
       "<polygon fill=\"none\" points=\"16.7139,-219.5 16.7139,-255.5 180.855,-255.5 180.855,-219.5 16.7139,-219.5\" stroke=\"black\"/>\n",
       "<text font-family=\"Times,serif\" font-size=\"14.00\" text-anchor=\"middle\" x=\"98.7847\" y=\"-233.3\">embedding_1: Embedding</text>\n",
       "</g>\n",
       "<!-- 4708562144&#45;&gt;4946940088 -->\n",
       "<g class=\"edge\" id=\"edge1\"><title>4708562144-&gt;4946940088</title>\n",
       "<path d=\"M98.7847,-292.313C98.7847,-284.289 98.7847,-274.547 98.7847,-265.569\" fill=\"none\" stroke=\"black\"/>\n",
       "<polygon fill=\"black\" points=\"102.285,-265.529 98.7847,-255.529 95.2848,-265.529 102.285,-265.529\" stroke=\"black\"/>\n",
       "</g>\n",
       "<!-- 4709375392 -->\n",
       "<g class=\"node\" id=\"node3\"><title>4709375392</title>\n",
       "<polygon fill=\"none\" points=\"49.3623,-146.5 49.3623,-182.5 148.207,-182.5 148.207,-146.5 49.3623,-146.5\" stroke=\"black\"/>\n",
       "<text font-family=\"Times,serif\" font-size=\"14.00\" text-anchor=\"middle\" x=\"98.7847\" y=\"-160.3\">lstm_1: LSTM</text>\n",
       "</g>\n",
       "<!-- 4946940088&#45;&gt;4709375392 -->\n",
       "<g class=\"edge\" id=\"edge2\"><title>4946940088-&gt;4709375392</title>\n",
       "<path d=\"M98.7847,-219.313C98.7847,-211.289 98.7847,-201.547 98.7847,-192.569\" fill=\"none\" stroke=\"black\"/>\n",
       "<polygon fill=\"black\" points=\"102.285,-192.529 98.7847,-182.529 95.2848,-192.529 102.285,-192.529\" stroke=\"black\"/>\n",
       "</g>\n",
       "<!-- 4948238008 -->\n",
       "<g class=\"node\" id=\"node4\"><title>4948238008</title>\n",
       "<polygon fill=\"none\" points=\"46.6587,-73.5 46.6587,-109.5 150.911,-109.5 150.911,-73.5 46.6587,-73.5\" stroke=\"black\"/>\n",
       "<text font-family=\"Times,serif\" font-size=\"14.00\" text-anchor=\"middle\" x=\"98.7847\" y=\"-87.3\">dense_1: Dense</text>\n",
       "</g>\n",
       "<!-- 4709375392&#45;&gt;4948238008 -->\n",
       "<g class=\"edge\" id=\"edge3\"><title>4709375392-&gt;4948238008</title>\n",
       "<path d=\"M98.7847,-146.313C98.7847,-138.289 98.7847,-128.547 98.7847,-119.569\" fill=\"none\" stroke=\"black\"/>\n",
       "<polygon fill=\"black\" points=\"102.285,-119.529 98.7847,-109.529 95.2848,-119.529 102.285,-119.529\" stroke=\"black\"/>\n",
       "</g>\n",
       "<!-- 4966334416 -->\n",
       "<g class=\"node\" id=\"node5\"><title>4966334416</title>\n",
       "<polygon fill=\"none\" points=\"46.6587,-0.5 46.6587,-36.5 150.911,-36.5 150.911,-0.5 46.6587,-0.5\" stroke=\"black\"/>\n",
       "<text font-family=\"Times,serif\" font-size=\"14.00\" text-anchor=\"middle\" x=\"98.7847\" y=\"-14.3\">dense_2: Dense</text>\n",
       "</g>\n",
       "<!-- 4948238008&#45;&gt;4966334416 -->\n",
       "<g class=\"edge\" id=\"edge4\"><title>4948238008-&gt;4966334416</title>\n",
       "<path d=\"M98.7847,-73.3129C98.7847,-65.2895 98.7847,-55.5475 98.7847,-46.5691\" fill=\"none\" stroke=\"black\"/>\n",
       "<polygon fill=\"black\" points=\"102.285,-46.5288 98.7847,-36.5288 95.2848,-46.5289 102.285,-46.5288\" stroke=\"black\"/>\n",
       "</g>\n",
       "</g>\n",
       "</svg>"
      ],
      "text/plain": [
       "<IPython.core.display.SVG object>"
      ]
     },
     "execution_count": 7,
     "metadata": {},
     "output_type": "execute_result"
    }
   ],
   "source": [
    "# Display the Model\n",
    "SVG(model_to_dot(model).create(prog='dot', format='svg'))"
   ]
  },
  {
   "cell_type": "code",
   "execution_count": 8,
   "metadata": {},
   "outputs": [
    {
     "name": "stdout",
     "output_type": "stream",
     "text": [
      "Train on 24 samples, validate on 12 samples\n",
      "Epoch 1/100\n",
      "24/24 [==============================] - 1s 25ms/step - loss: 1.6037 - acc: 0.3750 - val_loss: 1.5603 - val_acc: 0.5833\n",
      "Epoch 2/100\n",
      "24/24 [==============================] - 0s 574us/step - loss: 1.5639 - acc: 0.4167 - val_loss: 1.5337 - val_acc: 0.6667\n",
      "Epoch 3/100\n",
      "24/24 [==============================] - 0s 611us/step - loss: 1.5359 - acc: 0.6250 - val_loss: 1.5080 - val_acc: 0.6667\n",
      "Epoch 4/100\n",
      "24/24 [==============================] - 0s 634us/step - loss: 1.5110 - acc: 0.6250 - val_loss: 1.4832 - val_acc: 0.7500\n",
      "Epoch 5/100\n",
      "24/24 [==============================] - 0s 596us/step - loss: 1.4874 - acc: 0.7500 - val_loss: 1.4607 - val_acc: 0.7500\n",
      "Epoch 6/100\n",
      "24/24 [==============================] - 0s 564us/step - loss: 1.4654 - acc: 0.7500 - val_loss: 1.4386 - val_acc: 0.7500\n",
      "Epoch 7/100\n",
      "24/24 [==============================] - 0s 571us/step - loss: 1.4438 - acc: 0.7500 - val_loss: 1.4185 - val_acc: 0.7500\n",
      "Epoch 8/100\n",
      "24/24 [==============================] - 0s 518us/step - loss: 1.4236 - acc: 0.7500 - val_loss: 1.3990 - val_acc: 0.7500\n",
      "Epoch 9/100\n",
      "24/24 [==============================] - 0s 527us/step - loss: 1.4045 - acc: 0.7500 - val_loss: 1.3797 - val_acc: 0.7500\n",
      "Epoch 10/100\n",
      "24/24 [==============================] - 0s 512us/step - loss: 1.3851 - acc: 0.7500 - val_loss: 1.3605 - val_acc: 0.7500\n",
      "Epoch 11/100\n",
      "24/24 [==============================] - 0s 511us/step - loss: 1.3664 - acc: 0.7500 - val_loss: 1.3416 - val_acc: 0.7500\n",
      "Epoch 12/100\n",
      "24/24 [==============================] - 0s 511us/step - loss: 1.3482 - acc: 0.7500 - val_loss: 1.3229 - val_acc: 0.7500\n",
      "Epoch 13/100\n",
      "24/24 [==============================] - 0s 556us/step - loss: 1.3297 - acc: 0.7500 - val_loss: 1.3049 - val_acc: 0.7500\n",
      "Epoch 14/100\n",
      "24/24 [==============================] - 0s 519us/step - loss: 1.3115 - acc: 0.7500 - val_loss: 1.2867 - val_acc: 0.7500\n",
      "Epoch 15/100\n",
      "24/24 [==============================] - 0s 494us/step - loss: 1.2932 - acc: 0.7500 - val_loss: 1.2698 - val_acc: 0.7500\n",
      "Epoch 16/100\n",
      "24/24 [==============================] - 0s 475us/step - loss: 1.2752 - acc: 0.7500 - val_loss: 1.2518 - val_acc: 0.7500\n",
      "Epoch 17/100\n",
      "24/24 [==============================] - 0s 506us/step - loss: 1.2571 - acc: 0.7500 - val_loss: 1.2345 - val_acc: 0.7500\n",
      "Epoch 18/100\n",
      "24/24 [==============================] - 0s 487us/step - loss: 1.2389 - acc: 0.7500 - val_loss: 1.2170 - val_acc: 0.7500\n",
      "Epoch 19/100\n",
      "24/24 [==============================] - 0s 479us/step - loss: 1.2202 - acc: 0.7500 - val_loss: 1.1995 - val_acc: 0.7500\n",
      "Epoch 20/100\n",
      "24/24 [==============================] - 0s 530us/step - loss: 1.2015 - acc: 0.7500 - val_loss: 1.1817 - val_acc: 0.7500\n",
      "Epoch 21/100\n",
      "24/24 [==============================] - 0s 457us/step - loss: 1.1826 - acc: 0.7500 - val_loss: 1.1638 - val_acc: 0.7500\n",
      "Epoch 22/100\n",
      "24/24 [==============================] - 0s 504us/step - loss: 1.1625 - acc: 0.7500 - val_loss: 1.1460 - val_acc: 0.7500\n",
      "Epoch 23/100\n",
      "24/24 [==============================] - 0s 458us/step - loss: 1.1429 - acc: 0.7500 - val_loss: 1.1288 - val_acc: 0.7500\n",
      "Epoch 24/100\n",
      "24/24 [==============================] - 0s 495us/step - loss: 1.1232 - acc: 0.7917 - val_loss: 1.1106 - val_acc: 0.7500\n",
      "Epoch 25/100\n",
      "24/24 [==============================] - 0s 464us/step - loss: 1.1034 - acc: 0.8750 - val_loss: 1.0940 - val_acc: 0.7500\n",
      "Epoch 26/100\n",
      "24/24 [==============================] - 0s 507us/step - loss: 1.0835 - acc: 0.7917 - val_loss: 1.0760 - val_acc: 0.7500\n",
      "Epoch 27/100\n",
      "24/24 [==============================] - 0s 476us/step - loss: 1.0635 - acc: 0.8750 - val_loss: 1.0594 - val_acc: 0.7500\n",
      "Epoch 28/100\n",
      "24/24 [==============================] - 0s 503us/step - loss: 1.0436 - acc: 0.8750 - val_loss: 1.0419 - val_acc: 0.7500\n",
      "Epoch 29/100\n",
      "24/24 [==============================] - 0s 489us/step - loss: 1.0237 - acc: 0.8750 - val_loss: 1.0252 - val_acc: 0.7500\n",
      "Epoch 30/100\n",
      "24/24 [==============================] - 0s 472us/step - loss: 1.0037 - acc: 0.8750 - val_loss: 1.0075 - val_acc: 0.7500\n",
      "Epoch 31/100\n",
      "24/24 [==============================] - 0s 512us/step - loss: 0.9839 - acc: 0.8750 - val_loss: 0.9903 - val_acc: 0.7500\n",
      "Epoch 32/100\n",
      "24/24 [==============================] - 0s 497us/step - loss: 0.9639 - acc: 0.8750 - val_loss: 0.9728 - val_acc: 0.7500\n",
      "Epoch 33/100\n",
      "24/24 [==============================] - 0s 466us/step - loss: 0.9434 - acc: 0.8750 - val_loss: 0.9547 - val_acc: 0.7500\n",
      "Epoch 34/100\n",
      "24/24 [==============================] - 0s 508us/step - loss: 0.9225 - acc: 0.8750 - val_loss: 0.9368 - val_acc: 0.7500\n",
      "Epoch 35/100\n",
      "24/24 [==============================] - 0s 509us/step - loss: 0.9018 - acc: 0.8750 - val_loss: 0.9188 - val_acc: 0.7500\n",
      "Epoch 36/100\n",
      "24/24 [==============================] - 0s 465us/step - loss: 0.8811 - acc: 0.8750 - val_loss: 0.9004 - val_acc: 0.7500\n",
      "Epoch 37/100\n",
      "24/24 [==============================] - 0s 513us/step - loss: 0.8601 - acc: 0.8750 - val_loss: 0.8821 - val_acc: 0.7500\n",
      "Epoch 38/100\n",
      "24/24 [==============================] - 0s 477us/step - loss: 0.8391 - acc: 0.8750 - val_loss: 0.8637 - val_acc: 0.7500\n",
      "Epoch 39/100\n",
      "24/24 [==============================] - 0s 496us/step - loss: 0.8178 - acc: 0.8750 - val_loss: 0.8452 - val_acc: 0.7500\n",
      "Epoch 40/100\n",
      "24/24 [==============================] - 0s 503us/step - loss: 0.7967 - acc: 0.8750 - val_loss: 0.8262 - val_acc: 0.7500\n",
      "Epoch 41/100\n",
      "24/24 [==============================] - 0s 487us/step - loss: 0.7750 - acc: 0.8750 - val_loss: 0.8071 - val_acc: 0.7500\n",
      "Epoch 42/100\n",
      "24/24 [==============================] - 0s 488us/step - loss: 0.7531 - acc: 0.8750 - val_loss: 0.7880 - val_acc: 0.7500\n",
      "Epoch 43/100\n",
      "24/24 [==============================] - 0s 505us/step - loss: 0.7310 - acc: 0.8750 - val_loss: 0.7686 - val_acc: 0.7500\n",
      "Epoch 44/100\n",
      "24/24 [==============================] - 0s 474us/step - loss: 0.7086 - acc: 0.8750 - val_loss: 0.7497 - val_acc: 0.7500\n",
      "Epoch 45/100\n",
      "24/24 [==============================] - 0s 503us/step - loss: 0.6861 - acc: 0.8750 - val_loss: 0.7309 - val_acc: 0.7500\n",
      "Epoch 46/100\n",
      "24/24 [==============================] - 0s 454us/step - loss: 0.6638 - acc: 0.8750 - val_loss: 0.7120 - val_acc: 0.7500\n",
      "Epoch 47/100\n",
      "24/24 [==============================] - 0s 502us/step - loss: 0.6414 - acc: 0.8750 - val_loss: 0.6932 - val_acc: 0.8333\n",
      "Epoch 48/100\n",
      "24/24 [==============================] - 0s 461us/step - loss: 0.6189 - acc: 0.8750 - val_loss: 0.6750 - val_acc: 0.8333\n",
      "Epoch 49/100\n",
      "24/24 [==============================] - 0s 501us/step - loss: 0.5959 - acc: 0.8750 - val_loss: 0.6565 - val_acc: 0.8333\n",
      "Epoch 50/100\n",
      "24/24 [==============================] - 0s 429us/step - loss: 0.5730 - acc: 0.8750 - val_loss: 0.6387 - val_acc: 0.8333\n",
      "Epoch 51/100\n",
      "24/24 [==============================] - 0s 487us/step - loss: 0.5502 - acc: 0.9583 - val_loss: 0.6223 - val_acc: 0.8333\n",
      "Epoch 52/100\n",
      "24/24 [==============================] - 0s 487us/step - loss: 0.5279 - acc: 0.9583 - val_loss: 0.6047 - val_acc: 0.8333\n",
      "Epoch 53/100\n",
      "24/24 [==============================] - 0s 497us/step - loss: 0.5056 - acc: 0.9583 - val_loss: 0.5864 - val_acc: 0.8333\n",
      "Epoch 54/100\n",
      "24/24 [==============================] - 0s 439us/step - loss: 0.4833 - acc: 0.9583 - val_loss: 0.5687 - val_acc: 0.8333\n",
      "Epoch 55/100\n",
      "24/24 [==============================] - 0s 495us/step - loss: 0.4607 - acc: 0.9583 - val_loss: 0.5524 - val_acc: 0.8333\n",
      "Epoch 56/100\n",
      "24/24 [==============================] - 0s 457us/step - loss: 0.4388 - acc: 0.9583 - val_loss: 0.5341 - val_acc: 0.8333\n",
      "Epoch 57/100\n",
      "24/24 [==============================] - 0s 495us/step - loss: 0.4174 - acc: 0.9583 - val_loss: 0.5185 - val_acc: 0.8333\n",
      "Epoch 58/100\n",
      "24/24 [==============================] - 0s 466us/step - loss: 0.3965 - acc: 0.9583 - val_loss: 0.5008 - val_acc: 0.8333\n",
      "Epoch 59/100\n",
      "24/24 [==============================] - 0s 478us/step - loss: 0.3760 - acc: 0.9583 - val_loss: 0.4864 - val_acc: 0.8333\n",
      "Epoch 60/100\n",
      "24/24 [==============================] - 0s 496us/step - loss: 0.3564 - acc: 0.9583 - val_loss: 0.4685 - val_acc: 0.8333\n",
      "Epoch 61/100\n",
      "24/24 [==============================] - 0s 466us/step - loss: 0.3377 - acc: 0.9583 - val_loss: 0.4548 - val_acc: 0.8333\n",
      "Epoch 62/100\n",
      "24/24 [==============================] - 0s 502us/step - loss: 0.3197 - acc: 0.9583 - val_loss: 0.4369 - val_acc: 0.8333\n",
      "Epoch 63/100\n",
      "24/24 [==============================] - 0s 487us/step - loss: 0.3026 - acc: 0.9583 - val_loss: 0.4241 - val_acc: 0.8333\n",
      "Epoch 64/100\n",
      "24/24 [==============================] - 0s 506us/step - loss: 0.2861 - acc: 0.9583 - val_loss: 0.4072 - val_acc: 0.8333\n",
      "Epoch 65/100\n",
      "24/24 [==============================] - 0s 459us/step - loss: 0.2707 - acc: 0.9583 - val_loss: 0.3958 - val_acc: 0.8333\n",
      "Epoch 66/100\n",
      "24/24 [==============================] - 0s 483us/step - loss: 0.2559 - acc: 0.9583 - val_loss: 0.3810 - val_acc: 0.8333\n",
      "Epoch 67/100\n",
      "24/24 [==============================] - 0s 468us/step - loss: 0.2420 - acc: 0.9583 - val_loss: 0.3652 - val_acc: 0.8333\n",
      "Epoch 68/100\n",
      "24/24 [==============================] - 0s 486us/step - loss: 0.2289 - acc: 0.9583 - val_loss: 0.3546 - val_acc: 0.8333\n",
      "Epoch 69/100\n",
      "24/24 [==============================] - 0s 483us/step - loss: 0.2166 - acc: 0.9583 - val_loss: 0.3403 - val_acc: 0.9167\n",
      "Epoch 70/100\n",
      "24/24 [==============================] - 0s 469us/step - loss: 0.2047 - acc: 1.0000 - val_loss: 0.3266 - val_acc: 0.9167\n",
      "Epoch 71/100\n",
      "24/24 [==============================] - 0s 513us/step - loss: 0.1939 - acc: 1.0000 - val_loss: 0.3128 - val_acc: 0.9167\n",
      "Epoch 72/100\n",
      "24/24 [==============================] - 0s 471us/step - loss: 0.1841 - acc: 1.0000 - val_loss: 0.3024 - val_acc: 0.9167\n",
      "Epoch 73/100\n",
      "24/24 [==============================] - 0s 505us/step - loss: 0.1743 - acc: 1.0000 - val_loss: 0.2904 - val_acc: 0.9167\n",
      "Epoch 74/100\n",
      "24/24 [==============================] - 0s 472us/step - loss: 0.1651 - acc: 1.0000 - val_loss: 0.2801 - val_acc: 0.9167\n",
      "Epoch 75/100\n",
      "24/24 [==============================] - 0s 478us/step - loss: 0.1568 - acc: 1.0000 - val_loss: 0.2669 - val_acc: 0.9167\n",
      "Epoch 76/100\n",
      "24/24 [==============================] - 0s 483us/step - loss: 0.1487 - acc: 1.0000 - val_loss: 0.2576 - val_acc: 1.0000\n",
      "Epoch 77/100\n",
      "24/24 [==============================] - 0s 443us/step - loss: 0.1412 - acc: 1.0000 - val_loss: 0.2463 - val_acc: 1.0000\n",
      "Epoch 78/100\n",
      "24/24 [==============================] - 0s 489us/step - loss: 0.1338 - acc: 1.0000 - val_loss: 0.2352 - val_acc: 1.0000\n",
      "Epoch 79/100\n",
      "24/24 [==============================] - 0s 494us/step - loss: 0.1271 - acc: 1.0000 - val_loss: 0.2280 - val_acc: 1.0000\n",
      "Epoch 80/100\n",
      "24/24 [==============================] - 0s 467us/step - loss: 0.1206 - acc: 1.0000 - val_loss: 0.2162 - val_acc: 1.0000\n",
      "Epoch 81/100\n",
      "24/24 [==============================] - 0s 488us/step - loss: 0.1144 - acc: 1.0000 - val_loss: 0.2070 - val_acc: 1.0000\n",
      "Epoch 82/100\n",
      "24/24 [==============================] - 0s 464us/step - loss: 0.1087 - acc: 1.0000 - val_loss: 0.1975 - val_acc: 1.0000\n",
      "Epoch 83/100\n",
      "24/24 [==============================] - 0s 481us/step - loss: 0.1031 - acc: 1.0000 - val_loss: 0.1912 - val_acc: 1.0000\n",
      "Epoch 84/100\n",
      "24/24 [==============================] - 0s 471us/step - loss: 0.0980 - acc: 1.0000 - val_loss: 0.1816 - val_acc: 1.0000\n",
      "Epoch 85/100\n",
      "24/24 [==============================] - 0s 468us/step - loss: 0.0930 - acc: 1.0000 - val_loss: 0.1753 - val_acc: 1.0000\n",
      "Epoch 86/100\n",
      "24/24 [==============================] - 0s 475us/step - loss: 0.0884 - acc: 1.0000 - val_loss: 0.1673 - val_acc: 1.0000\n",
      "Epoch 87/100\n",
      "24/24 [==============================] - 0s 487us/step - loss: 0.0840 - acc: 1.0000 - val_loss: 0.1590 - val_acc: 1.0000\n",
      "Epoch 88/100\n",
      "24/24 [==============================] - 0s 462us/step - loss: 0.0797 - acc: 1.0000 - val_loss: 0.1527 - val_acc: 1.0000\n",
      "Epoch 89/100\n",
      "24/24 [==============================] - 0s 496us/step - loss: 0.0755 - acc: 1.0000 - val_loss: 0.1471 - val_acc: 1.0000\n",
      "Epoch 90/100\n",
      "24/24 [==============================] - 0s 480us/step - loss: 0.0717 - acc: 1.0000 - val_loss: 0.1407 - val_acc: 1.0000\n",
      "Epoch 91/100\n",
      "24/24 [==============================] - 0s 481us/step - loss: 0.0681 - acc: 1.0000 - val_loss: 0.1339 - val_acc: 1.0000\n",
      "Epoch 92/100\n",
      "24/24 [==============================] - 0s 465us/step - loss: 0.0647 - acc: 1.0000 - val_loss: 0.1287 - val_acc: 1.0000\n",
      "Epoch 93/100\n",
      "24/24 [==============================] - 0s 487us/step - loss: 0.0613 - acc: 1.0000 - val_loss: 0.1235 - val_acc: 1.0000\n",
      "Epoch 94/100\n",
      "24/24 [==============================] - 0s 479us/step - loss: 0.0582 - acc: 1.0000 - val_loss: 0.1194 - val_acc: 1.0000\n",
      "Epoch 95/100\n",
      "24/24 [==============================] - 0s 466us/step - loss: 0.0552 - acc: 1.0000 - val_loss: 0.1144 - val_acc: 1.0000\n",
      "Epoch 96/100\n",
      "24/24 [==============================] - 0s 480us/step - loss: 0.0524 - acc: 1.0000 - val_loss: 0.1106 - val_acc: 1.0000\n",
      "Epoch 97/100\n",
      "24/24 [==============================] - 0s 662us/step - loss: 0.0498 - acc: 1.0000 - val_loss: 0.1039 - val_acc: 1.0000\n",
      "Epoch 98/100\n",
      "24/24 [==============================] - 0s 504us/step - loss: 0.0473 - acc: 1.0000 - val_loss: 0.1016 - val_acc: 1.0000\n",
      "Epoch 99/100\n",
      "24/24 [==============================] - 0s 440us/step - loss: 0.0449 - acc: 1.0000 - val_loss: 0.0968 - val_acc: 1.0000\n",
      "Epoch 100/100\n",
      "24/24 [==============================] - 0s 391us/step - loss: 0.0427 - acc: 1.0000 - val_loss: 0.0941 - val_acc: 1.0000\n"
     ]
    }
   ],
   "source": [
    "# Train the model, record history\n",
    "history = model.fit(x_train, y_train,\n",
    "                    epochs=100,\n",
    "                    batch_size=24,\n",
    "                    validation_data=(x_val, y_val))"
   ]
  },
  {
   "cell_type": "code",
   "execution_count": 9,
   "metadata": {},
   "outputs": [
    {
     "data": {
      "image/png": "[encoded data removed]",
      "text/plain": [
       "<matplotlib.figure.Figure at 0x118b35048>"
      ]
     },
     "metadata": {},
     "output_type": "display_data"
    },
    {
     "data": {
      "image/png": "[encoded data removed]",
      "text/plain": [
       "<matplotlib.figure.Figure at 0x1291792e8>"
      ]
     },
     "metadata": {},
     "output_type": "display_data"
    }
   ],
   "source": [
    "# Make history\n",
    "u.make_history_plot(history)"
   ]
  },
  {
   "cell_type": "code",
   "execution_count": 10,
   "metadata": {},
   "outputs": [
    {
     "name": "stdout",
     "output_type": "stream",
     "text": [
      "Overall Accuracy: 1.0\n",
      "Meals and Entertainment --> Precision:1.0,Recall:1.0,F1:1.0\n",
      "Computer - Software --> Precision:1.0,Recall:1.0,F1:1.0\n",
      "Office Supplies --> Precision:1.0,Recall:1.0,F1:1.0\n",
      "Travel --> Precision:1.0,Recall:1.0,F1:1.0\n",
      "Computer - Hardware --> Precision:1.0,Recall:1.0,F1:1.0\n",
      "\n",
      "Averages---> Precision:1.0, Recall:1.0, F1:1.0\n",
      "\n",
      "Confusion Matrix\n",
      "\n",
      "Meals and Entertainment(10) --> Meals and Entertainment(10) , Computer - Software(0) , Office Supplies(0) , Travel(0) , Computer - Hardware(0) , \n",
      "Computer - Software(4) --> Meals and Entertainment(0) , Computer - Software(4) , Office Supplies(0) , Travel(0) , Computer - Hardware(0) , \n",
      "Office Supplies(1) --> Meals and Entertainment(0) , Computer - Software(0) , Office Supplies(1) , Travel(0) , Computer - Hardware(0) , \n",
      "Travel(6) --> Meals and Entertainment(0) , Computer - Software(0) , Office Supplies(0) , Travel(6) , Computer - Hardware(0) , \n",
      "Computer - Hardware(3) --> Meals and Entertainment(0) , Computer - Software(0) , Office Supplies(0) , Travel(0) , Computer - Hardware(3) , \n"
     ]
    }
   ],
   "source": [
    "# Make and analyze training predictions\n",
    "train_predictions = u.one_hot_to_category(model.predict(x_train),categories)\n",
    "u.analyze_predictions(categories,df_train['category'].values,train_predictions)"
   ]
  },
  {
   "cell_type": "code",
   "execution_count": 11,
   "metadata": {},
   "outputs": [
    {
     "name": "stdout",
     "output_type": "stream",
     "text": [
      "Overall Accuracy: 1.0\n",
      "Meals and Entertainment --> Precision:1.0,Recall:1.0,F1:1.0\n",
      "Computer - Software --> Precision:nan,Recall:nan,F1:nan\n",
      "Office Supplies --> Precision:1.0,Recall:1.0,F1:1.0\n",
      "Travel --> Precision:1.0,Recall:1.0,F1:1.0\n",
      "Computer - Hardware --> Precision:1.0,Recall:1.0,F1:1.0\n",
      "\n",
      "Averages---> Precision:1.0, Recall:1.0, F1:1.0\n",
      "\n",
      "Confusion Matrix\n",
      "\n",
      "Meals and Entertainment(7) --> Meals and Entertainment(7) , Computer - Software(0) , Office Supplies(0) , Travel(0) , Computer - Hardware(0) , \n",
      "Computer - Software(0) --> Meals and Entertainment(0) , Computer - Software(0) , Office Supplies(0) , Travel(0) , Computer - Hardware(0) , \n",
      "Office Supplies(2) --> Meals and Entertainment(0) , Computer - Software(0) , Office Supplies(2) , Travel(0) , Computer - Hardware(0) , \n",
      "Travel(2) --> Meals and Entertainment(0) , Computer - Software(0) , Office Supplies(0) , Travel(2) , Computer - Hardware(0) , \n",
      "Computer - Hardware(1) --> Meals and Entertainment(0) , Computer - Software(0) , Office Supplies(0) , Travel(0) , Computer - Hardware(1) , \n"
     ]
    }
   ],
   "source": [
    "# Make and analyze validation predictions\n",
    "val_predictions = u.one_hot_to_category(model.predict(x_val),categories)\n",
    "u.analyze_predictions(categories,df_val['category'].values,val_predictions)"
   ]
  },
  {
   "cell_type": "code",
   "execution_count": null,
   "metadata": {},
   "outputs": [],
   "source": []
  }
 ],
 "metadata": {
  "kernelspec": {
   "display_name": "Python 3",
   "language": "python",
   "name": "python3"
  },
  "language_info": {
   "codemirror_mode": {
    "name": "ipython",
    "version": 3
   },
   "file_extension": ".py",
   "mimetype": "text/x-python",
   "name": "python",
   "nbconvert_exporter": "python",
   "pygments_lexer": "ipython3",
   "version": "3.6.1"
  }
 },
 "nbformat": 4,
 "nbformat_minor": 2
}
